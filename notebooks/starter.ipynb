{
 "cells": [
  {
   "cell_type": "markdown",
   "metadata": {},
   "source": [
    "# 📓 Data Science Homework\n",
    "Fill in the code blocks and markdown cells as instructed below."
   ]
  },
  {
   "cell_type": "markdown",
   "metadata": {},
   "source": [
    "## Descriptive Statistics"
   ]
  },
  {
   "cell_type": "code",
   "execution_count": null,
   "metadata": {},
   "outputs": [],
   "source": [
    "# TODO: Load the dataset and compute mean, median, mode, std, IQR\n",
    "\n",
    "import pandas as pd\n",
    "from scipy import stats\n",
    "\n",
    "df = pd.read_csv('/mnt/data/ACCIDENTS_GU_BCN_2013.csv')\n",
    "\n",
    "numeric_cols = df.select_dtypes(include='number')\n",
    "\n",
    "for col in numeric_cols.columns:\n",
    "    mean_val = numeric_cols[col].mean()\n",
    "    median_val = numeric_cols[col].median()\n",
    "    mode_val = numeric_cols[col].mode().iloc[0] if not numeric_cols[col].mode().empty else None\n",
    "    std_val = numeric_cols[col].std()\n",
    "    iqr_val = stats.iqr(numeric_cols[col], nan_policy='omit')\n",
    "\n",
    "    print(f\"\\nColumn: {col}\")\n",
    "    print(f\"  Mean: {mean_val:.2f}\")\n",
    "    print(f\"  Median: {median_val:.2f}\")\n",
    "    print(f\"  Mode: {mode_val}\")\n",
    "    print(f\"  Standard Deviation: {std_val:.2f}\")\n",
    "    print(f\"  IQR: {iqr_val:.2f}\")\n"
   ]
  },
  {
   "cell_type": "markdown",
   "metadata": {},
   "source": [
    "## Visualizations (Histogram, KDE, Boxplot, Heatmap)"
   ]
  },
  {
   "cell_type": "code",
   "execution_count": null,
   "metadata": {},
   "outputs": [],
   "source": [
    "# TODO: Plot histogram, KDE, boxplot, and correlation heatmap\n",
    "\n",
    "import matplotlib.pyplot as plt\n",
    "import seaborn as sns\n",
    "\n",
    "col = 'Número de víctimas'\n",
    "\n",
    "plt.figure(figsize=(6, 4))\n",
    "sns.histplot(df[col], bins=15, kde=False)\n",
    "plt.title('Histogram of Número de víctimas')\n",
    "plt.show()\n",
    "\n",
    "plt.figure(figsize=(6, 4))\n",
    "sns.kdeplot(df[col], shade=True)\n",
    "plt.title('KDE of Número de víctimas')\n",
    "plt.show()\n",
    "\n",
    "plt.figure(figsize=(6, 4))\n",
    "sns.boxplot(x=df[col])\n",
    "plt.title('Boxplot of Número de víctimas')\n",
    "plt.show()\n",
    "\n",
    "plt.figure(figsize=(10, 6))\n",
    "sns.heatmap(df.select_dtypes(include='number').corr(), annot=True, cmap='coolwarm')\n",
    "plt.title('Correlation Heatmap')\n",
    "plt.show()\n"
   ]
  },
  {
   "cell_type": "markdown",
   "metadata": {},
   "source": [
    "## Bootstrap Confidence Interval"
   ]
  },
  {
   "cell_type": "code",
   "execution_count": null,
   "metadata": {},
   "outputs": [],
   "source": [
    "# TODO: Bootstrap sample mean and CI (e.g., for 'Número de víctimes')\n",
    "\n",
    "import numpy as np\n",
    "\n",
    "boot_means = []\n",
    "for _ in range(1000):\n",
    "    sample = df[col].dropna().sample(frac=1, replace=True)\n",
    "    boot_means.append(sample.mean())\n",
    "\n",
    "ci_lower = np.percentile(boot_means, 2.5)\n",
    "ci_upper = np.percentile(boot_means, 97.5)\n",
    "\n",
    "print(f\"Bootstrap 95% CI for mean of '{col}': ({ci_lower:.2f}, {ci_upper:.2f})\")\n",
    "\n",
    "plt.figure(figsize=(6, 4))\n",
    "sns.histplot(boot_means, bins=30)\n",
    "plt.axvline(ci_lower, color='red', linestyle='--', label='2.5%')\n",
    "plt.axvline(ci_upper, color='green', linestyle='--', label='97.5%')\n",
    "plt.title('Bootstrap Distribution of the Mean')\n",
    "plt.legend()\n",
    "plt.show()\n"
   ]
  },
  {
   "cell_type": "markdown",
   "metadata": {},
   "source": [
    "## Hypothesis Testing"
   ]
  },
  {
   "cell_type": "code",
   "execution_count": null,
   "metadata": {},
   "outputs": [],
   "source": [
    "# TODO: Perform a t-test (e.g., is mean != 1?) and interpret the result\n",
    "\n",
    "from scipy.stats import ttest_1samp\n",
    "\n",
    "victims = df['Número de víctimas'].dropna()\n",
    "\n",
    "t_stat, p_val = ttest_1samp(victims, popmean=1.7)\n",
    "\n",
    "print(f\"T-statistic: {t_stat:.3f}\")\n",
    "print(f\"P-value: {p_val:.4f}\")\n",
    "\n",
    "if p_val < 0.05:\n",
    "    print(\"Reject the null hypothesis: the mean is significantly different from 1.7.\")\n",
    "else:\n",
    "    print(\"Fail to reject the null hypothesis: no significant difference from 1.7.\")\n"
   ]
  }
 ],
 "metadata": {
  "kernelspec": {
   "display_name": "Python 3",
   "language": "python",
   "name": "python3"
  },
  "language_info": {
   "codemirror_mode": {
    "name": "ipython",
    "version": 3
   },
   "file_extension": ".py",
   "mimetype": "text/x-python",
   "name": "python",
   "nbconvert_exporter": "python",
   "pygments_lexer": "ipython3",
   "version": "3.13.3"
  }
 },
 "nbformat": 4,
 "nbformat_minor": 4
}
